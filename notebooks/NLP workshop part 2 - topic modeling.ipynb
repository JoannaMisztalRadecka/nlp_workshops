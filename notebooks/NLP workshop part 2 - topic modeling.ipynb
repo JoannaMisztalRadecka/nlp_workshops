{
 "cells": [
  {
   "cell_type": "markdown",
   "metadata": {
    "toc": "true"
   },
   "source": [
    "# Table of Contents\n",
    " <p><div class=\"lev1 toc-item\"><a href=\"#Przetwarzanie-tekstu---analiza-tematów\" data-toc-modified-id=\"Przetwarzanie-tekstu---analiza-tematów-1\"><span class=\"toc-item-num\">1&nbsp;&nbsp;</span>Przetwarzanie tekstu - analiza tematów</a></div><div class=\"lev2 toc-item\"><a href=\"#Słowniczek\" data-toc-modified-id=\"Słowniczek-11\"><span class=\"toc-item-num\">1.1&nbsp;&nbsp;</span>Słowniczek</a></div><div class=\"lev4 toc-item\"><a href=\"#Importy\" data-toc-modified-id=\"Importy-1101\"><span class=\"toc-item-num\">1.1.0.1&nbsp;&nbsp;</span>Importy</a></div><div class=\"lev3 toc-item\"><a href=\"#Czytanie-danych\" data-toc-modified-id=\"Czytanie-danych-111\"><span class=\"toc-item-num\">1.1.1&nbsp;&nbsp;</span>Czytanie danych</a></div><div class=\"lev3 toc-item\"><a href=\"#Modelowanie-tematów\" data-toc-modified-id=\"Modelowanie-tematów-112\"><span class=\"toc-item-num\">1.1.2&nbsp;&nbsp;</span>Modelowanie tematów</a></div><div class=\"lev4 toc-item\"><a href=\"#Jak-to-działa?\" data-toc-modified-id=\"Jak-to-działa?-1121\"><span class=\"toc-item-num\">1.1.2.1&nbsp;&nbsp;</span>Jak to działa?</a></div><div class=\"lev3 toc-item\"><a href=\"#LDA\" data-toc-modified-id=\"LDA-113\"><span class=\"toc-item-num\">1.1.3&nbsp;&nbsp;</span>LDA</a></div><div class=\"lev4 toc-item\"><a href=\"#Jak-wybrać-liczbę-tematów?\" data-toc-modified-id=\"Jak-wybrać-liczbę-tematów?-1131\"><span class=\"toc-item-num\">1.1.3.1&nbsp;&nbsp;</span>Jak wybrać liczbę tematów?</a></div><div class=\"lev3 toc-item\"><a href=\"#Tematy-dla-artykułów\" data-toc-modified-id=\"Tematy-dla-artykułów-114\"><span class=\"toc-item-num\">1.1.4&nbsp;&nbsp;</span>Tematy dla artykułów</a></div><div class=\"lev3 toc-item\"><a href=\"#Wizualizacja-tematów\" data-toc-modified-id=\"Wizualizacja-tematów-115\"><span class=\"toc-item-num\">1.1.5&nbsp;&nbsp;</span>Wizualizacja tematów</a></div><div class=\"lev3 toc-item\"><a href=\"#Analiza-tematów-w-czasie\" data-toc-modified-id=\"Analiza-tematów-w-czasie-116\"><span class=\"toc-item-num\">1.1.6&nbsp;&nbsp;</span>Analiza tematów w czasie</a></div><div class=\"lev3 toc-item\"><a href=\"#Temat-dnia\" data-toc-modified-id=\"Temat-dnia-117\"><span class=\"toc-item-num\">1.1.7&nbsp;&nbsp;</span>Temat dnia</a></div><div class=\"lev2 toc-item\"><a href=\"#Zadanie\" data-toc-modified-id=\"Zadanie-12\"><span class=\"toc-item-num\">1.2&nbsp;&nbsp;</span>Zadanie</a></div>"
   ]
  },
  {
   "cell_type": "markdown",
   "metadata": {
    "colab_type": "text",
    "id": "0NL6TVfSKrCu"
   },
   "source": [
    "# Przetwarzanie tekstu - analiza tematów\n",
    " W tej części warsztatów dowiesz się:\n",
    " * Jak przypisać tematy dla tekstów? - modelowanie tematów - podstawowe algorytmy i zastosowania (LDA)\n",
    " * Jak modelowanie tematów może pomóc w zrozumieniu zbioru danych tekstowych i ich wizualizacji"
   ]
  },
  {
   "cell_type": "markdown",
   "metadata": {
    "colab_type": "text",
    "id": "2WdxRtkMKrCw"
   },
   "source": [
    "## Słowniczek\n",
    "- LDA (*Latent Dirichlet Allocation*) - algorytm modelowania tematów z wykorzystaniem rozkładu prawdopodobieństwa Dirichleta\n",
    "- standaryzacja - normalizacja zmiennej losowej, w wyniku której średnia jest równa 0, a odchylenie 1."
   ]
  },
  {
   "cell_type": "markdown",
   "metadata": {
    "colab_type": "text",
    "id": "AOpaRaaKr1V5"
   },
   "source": [
    "#### Importy"
   ]
  },
  {
   "cell_type": "code",
   "execution_count": null,
   "metadata": {
    "ExecuteTime": {
     "end_time": "2018-11-08T18:49:41.312808Z",
     "start_time": "2018-11-08T18:49:32.610938Z"
    },
    "colab": {},
    "colab_type": "code",
    "id": "hMaLNd41KrC6"
   },
   "outputs": [],
   "source": [
    "# podstawowe operacje na danych\n",
    "import pandas as pd\n",
    "import numpy as np\n",
    "\n",
    "# przetwarzanie tekstu, preprocessing\n",
    "import nltk\n",
    "from nltk.corpus import stopwords\n",
    "from nltk.stem import WordNetLemmatizer\n",
    "from nltk.tokenize import WordPunctTokenizer, word_tokenize\n",
    "\n",
    "# przetwarzanie danych, modele ML\n",
    "from sklearn.datasets import fetch_20newsgroups\n",
    "from sklearn.feature_extraction.text import CountVectorizer, TfidfVectorizer\n",
    "from sklearn.decomposition import LatentDirichletAllocation\n",
    "from sklearn.preprocessing import StandardScaler\n",
    "\n",
    "# wizualizacja\n",
    "import pyLDAvis\n",
    "import pyLDAvis.sklearn as sklearn_vis\n",
    "import plotly.plotly as py\n",
    "from  plotly import graph_objs as go\n",
    "from plotly.offline import download_plotlyjs, init_notebook_mode, iplot\n",
    "init_notebook_mode(connected=False)\n",
    "\n",
    "import warnings\n",
    "warnings.filterwarnings('ignore')"
   ]
  },
  {
   "cell_type": "markdown",
   "metadata": {
    "colab_type": "text",
    "id": "xgM7pgr9KrC-"
   },
   "source": [
    "### Czytanie danych\n",
    "\n",
    "Do analizy użyjemy materiałów ze zbioru danych \"All the news\" z Kaggle'a pochodzących z różnych serwisów internetowych.\n",
    "\n",
    "https://www.kaggle.com/snapcrack/all-the-news/downloads/articles1.csv/4"
   ]
  },
  {
   "cell_type": "code",
   "execution_count": null,
   "metadata": {
    "ExecuteTime": {
     "end_time": "2018-11-01T12:53:08.000234Z",
     "start_time": "2018-11-01T12:53:03.929827Z"
    },
    "colab": {},
    "colab_type": "code",
    "id": "odAV13kFKrC-"
   },
   "outputs": [],
   "source": [
    "articles = pd.read_csv('articles1.csv.zip', compression='zip', index_col='id')\n",
    "# analizujemy artykuły z roku 2017\n",
    "articles_17 = articles[articles.year==2017]\n",
    "articles_17.head()"
   ]
  },
  {
   "cell_type": "markdown",
   "metadata": {
    "colab_type": "text",
    "id": "nAmofwnrKrDD"
   },
   "source": [
    "### Modelowanie tematów"
   ]
  },
  {
   "cell_type": "markdown",
   "metadata": {
    "colab_type": "text",
    "id": "sf3pCAaoKrDE"
   },
   "source": [
    "#### Jak to działa?\n",
    "\n",
    "Tutorial na temat LDA: https://medium.com/@lettier/how-does-lda-work-ill-explain-using-emoji-108abf40fa7d \n",
    "\n",
    "Fajna prezentacja o modelowaniu tematów i LDA: http://chdoig.github.io/pytexas2015-topic-modeling\n",
    "\n",
    "W skrócie:\n",
    "- Uczenie bez nadzoru - nie wymaga wcześniejszego tagowania tekstów\n",
    "- Wybieramy liczbę N tematów, które mają zostać znalezione\n",
    "- Metoda operuje na słowach (ich liczbie wystąpień w dokumentach), ukrytych tematach (klastrach słów), dokumentach \n",
    "- Iteracyjny algorytm, który na początku zakłada losowy przydział tematów dla dokumentów i słów\n",
    "- W kolejnych krokach aktualizuje wagi (artykuł-tematy, temat-słowa) zgodnie z obserwacjami\n",
    "- Na wyjściu otrzymujemy N tematów \n",
    "  - każdy temat jest opisany przez listę powiązanych z nim słów\n",
    "  - każdy dokument ma przypisane wagi (prawdopodobieństwa) powiązania z każdym z tematów"
   ]
  },
  {
   "cell_type": "markdown",
   "metadata": {
    "colab_type": "text",
    "id": "_KugE5j9KrDF"
   },
   "source": [
    "### LDA\n",
    "\n",
    "*Latent Dirichlet Allocation* - najbardziej popularny algorytm modelowania tematów z wykorzystaniem rozkładu prawdopodobieństwa Dirichleta. Implementacje w popularnych bibliotekach (gensim, sklearn) umożliwiają wydajne douczanie modelu dla nowych tekstów.\n",
    "Więcej na temat algorytmu w dokumentacji scikit-learn: http://scikit-learn.org/stable/modules/decomposition.html#latentdirichletallocation\n"
   ]
  },
  {
   "cell_type": "code",
   "execution_count": null,
   "metadata": {
    "ExecuteTime": {
     "end_time": "2018-11-01T12:53:16.684102Z",
     "start_time": "2018-11-01T12:53:16.664100Z"
    },
    "colab": {},
    "colab_type": "code",
    "id": "zSj481taKrDF"
   },
   "outputs": [],
   "source": [
    "def preprocess_tokens(text):\n",
    "    lemmatizer = WordNetLemmatizer()\n",
    "    tokens = nltk.tokenize.regexp_tokenize(text, '[a-zA-Z]{3,}')\n",
    "    return [lemmatizer.lemmatize(word).lower() for word in tokens]\n",
    "\n",
    "\n",
    "def fit_lda(txt, n_topics):\n",
    "    vectorizer = CountVectorizer(stop_words='english', tokenizer=preprocess_tokens, max_df=0.5, min_df=10)\n",
    "    lda = LatentDirichletAllocation(n_topics=n_topics, verbose=1)\n",
    "    doc_tf = vectorizer.fit_transform(txt)\n",
    "    lda_mdl = lda.fit(doc_tf)\n",
    "    topic_words = pd.DataFrame(lda.components_).apply(lambda topic:\n",
    "                                       ' '.join([vectorizer.get_feature_names()[i] for i in topic.argsort()[:-5 - 1:-1]]), 1)\n",
    "    print(topic_words)\n",
    "    return vectorizer, lda_mdl, topic_words\n",
    "\n",
    "\n",
    "def transform_lda(txt, vectorizer, lda):\n",
    "    docs_tf = vectorizer.transform(txt)\n",
    "    doc_topics = lda.transform(docs_tf)\n",
    "    return docs_tf, doc_topics"
   ]
  },
  {
   "cell_type": "markdown",
   "metadata": {
    "colab_type": "text",
    "id": "xgkhZhnSKrDH"
   },
   "source": [
    "Należy zdefiniować liczbę tematów, które zostaną znalezione."
   ]
  },
  {
   "cell_type": "code",
   "execution_count": null,
   "metadata": {
    "ExecuteTime": {
     "end_time": "2018-11-01T13:05:52.837710Z",
     "start_time": "2018-11-01T12:53:31.815615Z"
    },
    "colab": {},
    "colab_type": "code",
    "id": "LDxl8qGOKrDJ"
   },
   "outputs": [],
   "source": [
    "n_topics = 50\n",
    "vectorizer, lda, topic_words = fit_lda(articles_17.content, n_topics)"
   ]
  },
  {
   "cell_type": "markdown",
   "metadata": {
    "colab_type": "text",
    "id": "Bn7by4JKKrDQ"
   },
   "source": [
    "#### Jak wybrać liczbę tematów?\n",
    "Im większa liczba, tym bardziej szczegółowe tematy otrzymamy.\n",
    "\n",
    "Do wyboru liczby tematów często używa się miary \"perplexity\" do sprawdzenia, czy model dobrze odwzorowuje rozkład słów w próbce.\n",
    "Jednak z badań wynika, że ta miara często nie koreluje z ludzką ewaluacją jakości modelu - http://qpleple.com/perplexity-to-evaluate-topic-models/\n",
    "\n",
    "Dlatego często najlepiej najpierw \"ręcznie\" zapoznać się ze zwróconymi tematami i ocenić ich jakość. "
   ]
  },
  {
   "cell_type": "markdown",
   "metadata": {
    "colab_type": "text",
    "id": "0ipIEwcnKrDR"
   },
   "source": [
    "### Tematy dla artykułów\n",
    "\n",
    "Do każdego tekstu przypisujemy temat z największą wagą."
   ]
  },
  {
   "cell_type": "code",
   "execution_count": null,
   "metadata": {
    "ExecuteTime": {
     "end_time": "2018-11-01T13:31:53.970808Z",
     "start_time": "2018-11-01T13:28:48.158229Z"
    },
    "colab": {},
    "colab_type": "code",
    "id": "pOsi1FRdKrDW"
   },
   "outputs": [],
   "source": [
    "docs_tf, doc_topics = transform_lda(articles.content, vectorizer, lda)"
   ]
  },
  {
   "cell_type": "code",
   "execution_count": null,
   "metadata": {
    "ExecuteTime": {
     "end_time": "2018-11-01T13:31:53.991810Z",
     "start_time": "2018-11-01T13:31:53.972808Z"
    },
    "colab": {},
    "colab_type": "code",
    "id": "pOsi1FRdKrDW"
   },
   "outputs": [],
   "source": [
    "max_topics = np.argmax(doc_topics, 1)\n",
    "for i in range(10,20):\n",
    "    print(\"Text: \")\n",
    "    print(articles.content.iloc[i][:200])\n",
    "    print(\"Topic: \")\n",
    "    print(topic_words.iloc[max_topics[i]])\n",
    "    print()\n",
    "    "
   ]
  },
  {
   "cell_type": "markdown",
   "metadata": {
    "colab_type": "text",
    "id": "m0y53T3SKrDb"
   },
   "source": [
    "### Wizualizacja tematów\n",
    "\n",
    "Dla lepszego zrozumienia i analizy otrzymanego modelu warto zwizualizować otrzymane grupy tematów. \n",
    "Bardzo pomocny jest pakiet LDAvis, który tworzy wykresy dla modeli tematów (kompatybilny z formatem sklearn, gensim)."
   ]
  },
  {
   "cell_type": "code",
   "execution_count": null,
   "metadata": {
    "ExecuteTime": {
     "end_time": "2018-11-01T13:32:59.086319Z",
     "start_time": "2018-11-01T13:31:53.995810Z"
    },
    "colab": {},
    "colab_type": "code",
    "id": "5fzLesT8KrDb"
   },
   "outputs": [],
   "source": [
    "topics_vis = sklearn_vis.prepare(lda, docs_tf, vectorizer)\n",
    "pyLDAvis.display(topics_vis)"
   ]
  },
  {
   "cell_type": "markdown",
   "metadata": {
    "colab_type": "text",
    "id": "EcegzGrXKrDn"
   },
   "source": [
    "### Analiza tematów w czasie\n",
    "\n",
    "Możemy wykorzystać modelowanie tematów do znalezienia \"tematów dnia\" w danym okresie.\n",
    "\n",
    "\n"
   ]
  },
  {
   "cell_type": "markdown",
   "metadata": {
    "colab_type": "text",
    "id": "F1cKKXdYKrD2"
   },
   "source": [
    "### Temat dnia\n",
    "\n",
    "Szukamy tematów, które danego dnia miały wyższe średnie wartości, niż przez pozostały okres - tzn. więcej artykułów związancyh z nimi było tego dnia opublikowanych."
   ]
  },
  {
   "cell_type": "code",
   "execution_count": null,
   "metadata": {
    "ExecuteTime": {
     "end_time": "2018-11-01T13:21:42.918709Z",
     "start_time": "2018-11-01T13:20:36.973115Z"
    },
    "colab": {},
    "colab_type": "code",
    "id": "MAmCpROuKrD3"
   },
   "outputs": [],
   "source": [
    "scaler = StandardScaler()\n",
    "docs_tf, doc_topics = transform_lda(articles_17.content, vectorizer, lda)"
   ]
  },
  {
   "cell_type": "code",
   "execution_count": null,
   "metadata": {
    "ExecuteTime": {
     "end_time": "2018-11-01T13:24:46.359051Z",
     "start_time": "2018-11-01T13:24:46.245040Z"
    },
    "colab": {},
    "colab_type": "code",
    "id": "MAmCpROuKrD3"
   },
   "outputs": [],
   "source": [
    "articles_topics = pd.DataFrame(scaler.fit_transform(doc_topics), index=articles_17.index, columns=topic_words)\n",
    "mean_topics = articles_topics.merge(articles_17, left_index=True, right_on='id').groupby('date').mean()[topic_words]"
   ]
  },
  {
   "cell_type": "code",
   "execution_count": null,
   "metadata": {
    "ExecuteTime": {
     "end_time": "2018-11-01T13:24:52.079623Z",
     "start_time": "2018-11-01T13:24:49.924408Z"
    },
    "colab": {},
    "colab_type": "code",
    "id": "DhVNDBOMsB5j"
   },
   "outputs": [],
   "source": [
    "traces = [go.Scatter(\n",
    "    x = mean_topics.index,\n",
    "    y = mean_topics[topic_words[i]],\n",
    "    text = topic_words[i],\n",
    "    name = topic_words[i]\n",
    ") for i in range(n_topics)]\n",
    "\n",
    "\n",
    "iplot(traces, filename='topic_time')"
   ]
  },
  {
   "cell_type": "markdown",
   "metadata": {
    "colab_type": "text",
    "id": "wY8P2-mhKrD8"
   },
   "source": [
    "## Zadanie\n",
    "\n",
    "Model tematów - opisy TED-ów\n",
    "\n",
    "Zbuduj model tematów dla danych z https://www.kaggle.com/goweiting/ted-talks-transcript#ted_metadata_kaggle.csv\n",
    "\n",
    "1. Zbuduj model tematów (N=10/20)\n",
    "2. Stwórz wizualizację dla otrzymanego modelu (za pomocą LDA-vis)"
   ]
  },
  {
   "cell_type": "code",
   "execution_count": null,
   "metadata": {},
   "outputs": [],
   "source": []
  }
 ],
 "metadata": {
  "colab": {
   "collapsed_sections": [
    "rVry0yQBri37",
    "xgM7pgr9KrC-",
    "sf3pCAaoKrDE",
    "_KugE5j9KrDF",
    "mKlwUwQgKrDN",
    "Bn7by4JKKrDQ",
    "0ipIEwcnKrDR",
    "m0y53T3SKrDb"
   ],
   "name": "NLP workshop part 2 - topic modeling.ipynb",
   "provenance": [],
   "version": "0.3.2"
  },
  "kernelspec": {
   "display_name": "Python 3",
   "language": "python",
   "name": "python3"
  },
  "language_info": {
   "codemirror_mode": {
    "name": "ipython",
    "version": 3
   },
   "file_extension": ".py",
   "mimetype": "text/x-python",
   "name": "python",
   "nbconvert_exporter": "python",
   "pygments_lexer": "ipython3",
   "version": "3.6.5"
  },
  "toc": {
   "colors": {
    "hover_highlight": "#DAA520",
    "navigate_num": "#000000",
    "navigate_text": "#333333",
    "running_highlight": "#FF0000",
    "selected_highlight": "#FFD700",
    "sidebar_border": "#EEEEEE",
    "wrapper_background": "#FFFFFF"
   },
   "moveMenuLeft": true,
   "nav_menu": {
    "height": "263px",
    "width": "252px"
   },
   "navigate_menu": true,
   "number_sections": true,
   "sideBar": true,
   "threshold": "5",
   "toc_cell": true,
   "toc_section_display": "block",
   "toc_window_display": true,
   "widenNotebook": false
  }
 },
 "nbformat": 4,
 "nbformat_minor": 1
}
